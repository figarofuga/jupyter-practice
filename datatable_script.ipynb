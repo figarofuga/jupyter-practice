{
 "cells": [
  {
   "cell_type": "code",
   "execution_count": 5,
   "metadata": {
    "vscode": {
     "languageId": "r"
    }
   },
   "outputs": [
    {
     "name": "stderr",
     "output_type": "stream",
     "text": [
      "── \u001b[1mAttaching core tidyverse packages\u001b[22m ──────────────────────── tidyverse 2.0.0 ──\n",
      "\u001b[32m✔\u001b[39m \u001b[34mdplyr    \u001b[39m 1.1.2     \u001b[32m✔\u001b[39m \u001b[34mreadr    \u001b[39m 2.1.4\n",
      "\u001b[32m✔\u001b[39m \u001b[34mforcats  \u001b[39m 1.0.0     \u001b[32m✔\u001b[39m \u001b[34mstringr  \u001b[39m 1.5.0\n",
      "\u001b[32m✔\u001b[39m \u001b[34mggplot2  \u001b[39m 3.4.2     \u001b[32m✔\u001b[39m \u001b[34mtibble   \u001b[39m 3.2.1\n",
      "\u001b[32m✔\u001b[39m \u001b[34mlubridate\u001b[39m 1.9.2     \u001b[32m✔\u001b[39m \u001b[34mtidyr    \u001b[39m 1.3.0\n",
      "\u001b[32m✔\u001b[39m \u001b[34mpurrr    \u001b[39m 1.0.2     \n",
      "── \u001b[1mConflicts\u001b[22m ────────────────────────────────────────── tidyverse_conflicts() ──\n",
      "\u001b[31m✖\u001b[39m \u001b[34mdplyr\u001b[39m::\u001b[32mbetween()\u001b[39m     masks \u001b[34mdata.table\u001b[39m::between()\n",
      "\u001b[31m✖\u001b[39m \u001b[34mdplyr\u001b[39m::\u001b[32mfilter()\u001b[39m      masks \u001b[34mstats\u001b[39m::filter()\n",
      "\u001b[31m✖\u001b[39m \u001b[34mdplyr\u001b[39m::\u001b[32mfirst()\u001b[39m       masks \u001b[34mdata.table\u001b[39m::first()\n",
      "\u001b[31m✖\u001b[39m \u001b[34mlubridate\u001b[39m::\u001b[32mhour()\u001b[39m    masks \u001b[34mdata.table\u001b[39m::hour()\n",
      "\u001b[31m✖\u001b[39m \u001b[34mlubridate\u001b[39m::\u001b[32misoweek()\u001b[39m masks \u001b[34mdata.table\u001b[39m::isoweek()\n",
      "\u001b[31m✖\u001b[39m \u001b[34mdplyr\u001b[39m::\u001b[32mlag()\u001b[39m         masks \u001b[34mstats\u001b[39m::lag()\n",
      "\u001b[31m✖\u001b[39m \u001b[34mdplyr\u001b[39m::\u001b[32mlast()\u001b[39m        masks \u001b[34mdata.table\u001b[39m::last()\n",
      "\u001b[31m✖\u001b[39m \u001b[34mlubridate\u001b[39m::\u001b[32mmday()\u001b[39m    masks \u001b[34mdata.table\u001b[39m::mday()\n",
      "\u001b[31m✖\u001b[39m \u001b[34mlubridate\u001b[39m::\u001b[32mminute()\u001b[39m  masks \u001b[34mdata.table\u001b[39m::minute()\n",
      "\u001b[31m✖\u001b[39m \u001b[34mlubridate\u001b[39m::\u001b[32mmonth()\u001b[39m   masks \u001b[34mdata.table\u001b[39m::month()\n",
      "\u001b[31m✖\u001b[39m \u001b[34mlubridate\u001b[39m::\u001b[32mquarter()\u001b[39m masks \u001b[34mdata.table\u001b[39m::quarter()\n",
      "\u001b[31m✖\u001b[39m \u001b[34mlubridate\u001b[39m::\u001b[32msecond()\u001b[39m  masks \u001b[34mdata.table\u001b[39m::second()\n",
      "\u001b[31m✖\u001b[39m \u001b[34mpurrr\u001b[39m::\u001b[32mtranspose()\u001b[39m   masks \u001b[34mdata.table\u001b[39m::transpose()\n",
      "\u001b[31m✖\u001b[39m \u001b[34mlubridate\u001b[39m::\u001b[32mwday()\u001b[39m    masks \u001b[34mdata.table\u001b[39m::wday()\n",
      "\u001b[31m✖\u001b[39m \u001b[34mlubridate\u001b[39m::\u001b[32mweek()\u001b[39m    masks \u001b[34mdata.table\u001b[39m::week()\n",
      "\u001b[31m✖\u001b[39m \u001b[34mlubridate\u001b[39m::\u001b[32myday()\u001b[39m    masks \u001b[34mdata.table\u001b[39m::yday()\n",
      "\u001b[31m✖\u001b[39m \u001b[34mlubridate\u001b[39m::\u001b[32myear()\u001b[39m    masks \u001b[34mdata.table\u001b[39m::year()\n",
      "\u001b[36mℹ\u001b[39m Use the conflicted package (\u001b[3m\u001b[34m<http://conflicted.r-lib.org/>\u001b[39m\u001b[23m) to force all conflicts to become errors\n"
     ]
    }
   ],
   "source": [
    "library(data.table)\n",
    "library(tidyverse)\n",
    "library(dtplyr)"
   ]
  },
  {
   "cell_type": "code",
   "execution_count": 2,
   "metadata": {
    "vscode": {
     "languageId": "r"
    }
   },
   "outputs": [],
   "source": [
    "dat <- data.table::fread(\"CHdataset_naiive.csv\")"
   ]
  },
  {
   "cell_type": "code",
   "execution_count": 4,
   "metadata": {
    "vscode": {
     "languageId": "r"
    }
   },
   "outputs": [
    {
     "data": {
      "text/html": [
       "<table class=\"dataframe\">\n",
       "<caption>A data.table: 6 × 547</caption>\n",
       "<thead>\n",
       "\t<tr><th scope=col>No</th><th scope=col>cohortID</th><th scope=col>Edate</th><th scope=col>Fdate_1</th><th scope=col>Fdate_2</th><th scope=col>Fdate_3</th><th scope=col>Fdate_4</th><th scope=col>Fdate_5</th><th scope=col>Fdate_6</th><th scope=col>Fdate_7</th><th scope=col>⋯</th><th scope=col>days_14</th><th scope=col>days_15</th><th scope=col>days_16</th><th scope=col>days_17</th><th scope=col>days_18</th><th scope=col>days_19</th><th scope=col>days_20</th><th scope=col>days_21</th><th scope=col>days_22</th><th scope=col>days_23</th></tr>\n",
       "\t<tr><th scope=col>&lt;chr&gt;</th><th scope=col>&lt;chr&gt;</th><th scope=col>&lt;chr&gt;</th><th scope=col>&lt;chr&gt;</th><th scope=col>&lt;chr&gt;</th><th scope=col>&lt;chr&gt;</th><th scope=col>&lt;chr&gt;</th><th scope=col>&lt;chr&gt;</th><th scope=col>&lt;chr&gt;</th><th scope=col>&lt;chr&gt;</th><th scope=col>⋯</th><th scope=col>&lt;int&gt;</th><th scope=col>&lt;int&gt;</th><th scope=col>&lt;int&gt;</th><th scope=col>&lt;int&gt;</th><th scope=col>&lt;int&gt;</th><th scope=col>&lt;int&gt;</th><th scope=col>&lt;int&gt;</th><th scope=col>&lt;int&gt;</th><th scope=col>&lt;int&gt;</th><th scope=col>&lt;int&gt;</th></tr>\n",
       "</thead>\n",
       "<tbody>\n",
       "\t<tr><td>1</td><td>TCH-1</td><td>2012-05-23T00:00:00Z</td><td>2012-05-23T00:00:00Z</td><td>2012-11-30T00:00:00Z</td><td>2013-05-31T00:00:00Z</td><td>2013-11-29T00:00:00Z</td><td>2014-03-07T00:00:00Z</td><td>2014-11-15T00:00:00Z</td><td>NA                  </td><td>⋯</td><td>2374</td><td>2556</td><td>2739</td><td>2922</td><td>3104</td><td>3287</td><td>3469</td><td>3652</td><td>3835</td><td>4017</td></tr>\n",
       "\t<tr><td>2</td><td>TCH-2</td><td>2008-06-27T00:00:00Z</td><td>2008-06-27T00:00:00Z</td><td>2008-10-01T00:00:00Z</td><td>2009-07-01T00:00:00Z</td><td>NA                  </td><td>NA                  </td><td>NA                  </td><td>NA                  </td><td>⋯</td><td>2334</td><td>2604</td><td>2739</td><td>2922</td><td>3104</td><td>3287</td><td>3469</td><td>3652</td><td>3835</td><td>4017</td></tr>\n",
       "\t<tr><td>3</td><td>TCH-3</td><td>2009-01-25T00:00:00Z</td><td>2009-01-25T00:00:00Z</td><td>2009-07-23T00:00:00Z</td><td>2010-01-14T00:00:00Z</td><td>2010-07-08T00:00:00Z</td><td>2011-01-27T00:00:00Z</td><td>2011-07-14T00:00:00Z</td><td>2012-01-19T00:00:00Z</td><td>⋯</td><td>2384</td><td>2556</td><td>2739</td><td>2922</td><td>3104</td><td>3287</td><td>3469</td><td>3652</td><td>3835</td><td>4017</td></tr>\n",
       "\t<tr><td>4</td><td>TCH-4</td><td>2012-04-26T00:00:00Z</td><td>2012-04-26T00:00:00Z</td><td>2012-10-12T00:00:00Z</td><td>NA                  </td><td>2014-01-25T00:00:00Z</td><td>NA                  </td><td>2014-11-05T00:00:00Z</td><td>2015-02-27T00:00:00Z</td><td>⋯</td><td>2374</td><td>2556</td><td>2739</td><td>2922</td><td>3104</td><td>3287</td><td>3469</td><td>3652</td><td>3835</td><td>4017</td></tr>\n",
       "\t<tr><td>5</td><td>TCH-5</td><td>2012-03-14T00:00:00Z</td><td>2012-03-14T00:00:00Z</td><td>NA                  </td><td>2013-04-15T00:00:00Z</td><td>NA                  </td><td>NA                  </td><td>2014-06-26T00:00:00Z</td><td>NA                  </td><td>⋯</td><td>2374</td><td>2556</td><td>2739</td><td>2922</td><td>3104</td><td>3287</td><td>3469</td><td>3652</td><td>3835</td><td>4017</td></tr>\n",
       "\t<tr><td>6</td><td>TCH-6</td><td>2005-03-17T00:00:00Z</td><td>2005-03-17T00:00:00Z</td><td>2005-09-05T00:00:00Z</td><td>2006-03-20T00:00:00Z</td><td>2006-09-06T00:00:00Z</td><td>2007-03-12T00:00:00Z</td><td>2007-09-18T00:00:00Z</td><td>2008-03-05T00:00:00Z</td><td>⋯</td><td>2365</td><td>2568</td><td>2743</td><td>2904</td><td>3093</td><td>3282</td><td>3469</td><td>3652</td><td>3835</td><td>4017</td></tr>\n",
       "</tbody>\n",
       "</table>\n"
      ],
      "text/latex": [
       "A data.table: 6 × 547\n",
       "\\begin{tabular}{lllllllllllllllllllll}\n",
       " No & cohortID & Edate & Fdate\\_1 & Fdate\\_2 & Fdate\\_3 & Fdate\\_4 & Fdate\\_5 & Fdate\\_6 & Fdate\\_7 & ⋯ & days\\_14 & days\\_15 & days\\_16 & days\\_17 & days\\_18 & days\\_19 & days\\_20 & days\\_21 & days\\_22 & days\\_23\\\\\n",
       " <chr> & <chr> & <chr> & <chr> & <chr> & <chr> & <chr> & <chr> & <chr> & <chr> & ⋯ & <int> & <int> & <int> & <int> & <int> & <int> & <int> & <int> & <int> & <int>\\\\\n",
       "\\hline\n",
       "\t 1 & TCH-1 & 2012-05-23T00:00:00Z & 2012-05-23T00:00:00Z & 2012-11-30T00:00:00Z & 2013-05-31T00:00:00Z & 2013-11-29T00:00:00Z & 2014-03-07T00:00:00Z & 2014-11-15T00:00:00Z & NA                   & ⋯ & 2374 & 2556 & 2739 & 2922 & 3104 & 3287 & 3469 & 3652 & 3835 & 4017\\\\\n",
       "\t 2 & TCH-2 & 2008-06-27T00:00:00Z & 2008-06-27T00:00:00Z & 2008-10-01T00:00:00Z & 2009-07-01T00:00:00Z & NA                   & NA                   & NA                   & NA                   & ⋯ & 2334 & 2604 & 2739 & 2922 & 3104 & 3287 & 3469 & 3652 & 3835 & 4017\\\\\n",
       "\t 3 & TCH-3 & 2009-01-25T00:00:00Z & 2009-01-25T00:00:00Z & 2009-07-23T00:00:00Z & 2010-01-14T00:00:00Z & 2010-07-08T00:00:00Z & 2011-01-27T00:00:00Z & 2011-07-14T00:00:00Z & 2012-01-19T00:00:00Z & ⋯ & 2384 & 2556 & 2739 & 2922 & 3104 & 3287 & 3469 & 3652 & 3835 & 4017\\\\\n",
       "\t 4 & TCH-4 & 2012-04-26T00:00:00Z & 2012-04-26T00:00:00Z & 2012-10-12T00:00:00Z & NA                   & 2014-01-25T00:00:00Z & NA                   & 2014-11-05T00:00:00Z & 2015-02-27T00:00:00Z & ⋯ & 2374 & 2556 & 2739 & 2922 & 3104 & 3287 & 3469 & 3652 & 3835 & 4017\\\\\n",
       "\t 5 & TCH-5 & 2012-03-14T00:00:00Z & 2012-03-14T00:00:00Z & NA                   & 2013-04-15T00:00:00Z & NA                   & NA                   & 2014-06-26T00:00:00Z & NA                   & ⋯ & 2374 & 2556 & 2739 & 2922 & 3104 & 3287 & 3469 & 3652 & 3835 & 4017\\\\\n",
       "\t 6 & TCH-6 & 2005-03-17T00:00:00Z & 2005-03-17T00:00:00Z & 2005-09-05T00:00:00Z & 2006-03-20T00:00:00Z & 2006-09-06T00:00:00Z & 2007-03-12T00:00:00Z & 2007-09-18T00:00:00Z & 2008-03-05T00:00:00Z & ⋯ & 2365 & 2568 & 2743 & 2904 & 3093 & 3282 & 3469 & 3652 & 3835 & 4017\\\\\n",
       "\\end{tabular}\n"
      ],
      "text/markdown": [
       "\n",
       "A data.table: 6 × 547\n",
       "\n",
       "| No &lt;chr&gt; | cohortID &lt;chr&gt; | Edate &lt;chr&gt; | Fdate_1 &lt;chr&gt; | Fdate_2 &lt;chr&gt; | Fdate_3 &lt;chr&gt; | Fdate_4 &lt;chr&gt; | Fdate_5 &lt;chr&gt; | Fdate_6 &lt;chr&gt; | Fdate_7 &lt;chr&gt; | ⋯ ⋯ | days_14 &lt;int&gt; | days_15 &lt;int&gt; | days_16 &lt;int&gt; | days_17 &lt;int&gt; | days_18 &lt;int&gt; | days_19 &lt;int&gt; | days_20 &lt;int&gt; | days_21 &lt;int&gt; | days_22 &lt;int&gt; | days_23 &lt;int&gt; |\n",
       "|---|---|---|---|---|---|---|---|---|---|---|---|---|---|---|---|---|---|---|---|---|\n",
       "| 1 | TCH-1 | 2012-05-23T00:00:00Z | 2012-05-23T00:00:00Z | 2012-11-30T00:00:00Z | 2013-05-31T00:00:00Z | 2013-11-29T00:00:00Z | 2014-03-07T00:00:00Z | 2014-11-15T00:00:00Z | NA                   | ⋯ | 2374 | 2556 | 2739 | 2922 | 3104 | 3287 | 3469 | 3652 | 3835 | 4017 |\n",
       "| 2 | TCH-2 | 2008-06-27T00:00:00Z | 2008-06-27T00:00:00Z | 2008-10-01T00:00:00Z | 2009-07-01T00:00:00Z | NA                   | NA                   | NA                   | NA                   | ⋯ | 2334 | 2604 | 2739 | 2922 | 3104 | 3287 | 3469 | 3652 | 3835 | 4017 |\n",
       "| 3 | TCH-3 | 2009-01-25T00:00:00Z | 2009-01-25T00:00:00Z | 2009-07-23T00:00:00Z | 2010-01-14T00:00:00Z | 2010-07-08T00:00:00Z | 2011-01-27T00:00:00Z | 2011-07-14T00:00:00Z | 2012-01-19T00:00:00Z | ⋯ | 2384 | 2556 | 2739 | 2922 | 3104 | 3287 | 3469 | 3652 | 3835 | 4017 |\n",
       "| 4 | TCH-4 | 2012-04-26T00:00:00Z | 2012-04-26T00:00:00Z | 2012-10-12T00:00:00Z | NA                   | 2014-01-25T00:00:00Z | NA                   | 2014-11-05T00:00:00Z | 2015-02-27T00:00:00Z | ⋯ | 2374 | 2556 | 2739 | 2922 | 3104 | 3287 | 3469 | 3652 | 3835 | 4017 |\n",
       "| 5 | TCH-5 | 2012-03-14T00:00:00Z | 2012-03-14T00:00:00Z | NA                   | 2013-04-15T00:00:00Z | NA                   | NA                   | 2014-06-26T00:00:00Z | NA                   | ⋯ | 2374 | 2556 | 2739 | 2922 | 3104 | 3287 | 3469 | 3652 | 3835 | 4017 |\n",
       "| 6 | TCH-6 | 2005-03-17T00:00:00Z | 2005-03-17T00:00:00Z | 2005-09-05T00:00:00Z | 2006-03-20T00:00:00Z | 2006-09-06T00:00:00Z | 2007-03-12T00:00:00Z | 2007-09-18T00:00:00Z | 2008-03-05T00:00:00Z | ⋯ | 2365 | 2568 | 2743 | 2904 | 3093 | 3282 | 3469 | 3652 | 3835 | 4017 |\n",
       "\n"
      ],
      "text/plain": [
       "  No cohortID Edate                Fdate_1              Fdate_2             \n",
       "1 1  TCH-1    2012-05-23T00:00:00Z 2012-05-23T00:00:00Z 2012-11-30T00:00:00Z\n",
       "2 2  TCH-2    2008-06-27T00:00:00Z 2008-06-27T00:00:00Z 2008-10-01T00:00:00Z\n",
       "3 3  TCH-3    2009-01-25T00:00:00Z 2009-01-25T00:00:00Z 2009-07-23T00:00:00Z\n",
       "4 4  TCH-4    2012-04-26T00:00:00Z 2012-04-26T00:00:00Z 2012-10-12T00:00:00Z\n",
       "5 5  TCH-5    2012-03-14T00:00:00Z 2012-03-14T00:00:00Z NA                  \n",
       "6 6  TCH-6    2005-03-17T00:00:00Z 2005-03-17T00:00:00Z 2005-09-05T00:00:00Z\n",
       "  Fdate_3              Fdate_4              Fdate_5             \n",
       "1 2013-05-31T00:00:00Z 2013-11-29T00:00:00Z 2014-03-07T00:00:00Z\n",
       "2 2009-07-01T00:00:00Z NA                   NA                  \n",
       "3 2010-01-14T00:00:00Z 2010-07-08T00:00:00Z 2011-01-27T00:00:00Z\n",
       "4 NA                   2014-01-25T00:00:00Z NA                  \n",
       "5 2013-04-15T00:00:00Z NA                   NA                  \n",
       "6 2006-03-20T00:00:00Z 2006-09-06T00:00:00Z 2007-03-12T00:00:00Z\n",
       "  Fdate_6              Fdate_7              ⋯ days_14 days_15 days_16 days_17\n",
       "1 2014-11-15T00:00:00Z NA                   ⋯ 2374    2556    2739    2922   \n",
       "2 NA                   NA                   ⋯ 2334    2604    2739    2922   \n",
       "3 2011-07-14T00:00:00Z 2012-01-19T00:00:00Z ⋯ 2384    2556    2739    2922   \n",
       "4 2014-11-05T00:00:00Z 2015-02-27T00:00:00Z ⋯ 2374    2556    2739    2922   \n",
       "5 2014-06-26T00:00:00Z NA                   ⋯ 2374    2556    2739    2922   \n",
       "6 2007-09-18T00:00:00Z 2008-03-05T00:00:00Z ⋯ 2365    2568    2743    2904   \n",
       "  days_18 days_19 days_20 days_21 days_22 days_23\n",
       "1 3104    3287    3469    3652    3835    4017   \n",
       "2 3104    3287    3469    3652    3835    4017   \n",
       "3 3104    3287    3469    3652    3835    4017   \n",
       "4 3104    3287    3469    3652    3835    4017   \n",
       "5 3104    3287    3469    3652    3835    4017   \n",
       "6 3093    3282    3469    3652    3835    4017   "
      ]
     },
     "metadata": {},
     "output_type": "display_data"
    }
   ],
   "source": []
  },
  {
   "cell_type": "code",
   "execution_count": null,
   "metadata": {
    "vscode": {
     "languageId": "r"
    }
   },
   "outputs": [],
   "source": []
  }
 ],
 "metadata": {
  "kernelspec": {
   "display_name": "R",
   "language": "R",
   "name": "ir"
  },
  "language_info": {
   "codemirror_mode": "r",
   "file_extension": ".r",
   "mimetype": "text/x-r-source",
   "name": "R",
   "pygments_lexer": "r",
   "version": "4.3.1"
  },
  "orig_nbformat": 4
 },
 "nbformat": 4,
 "nbformat_minor": 2
}

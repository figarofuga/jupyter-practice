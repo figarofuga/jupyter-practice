{
 "cells": [
  {
   "cell_type": "code",
   "execution_count": 1,
   "metadata": {},
   "outputs": [
    {
     "ename": "ArgumentError",
     "evalue": "ArgumentError: Package Tidier [f0413319-3358-4bb0-8e7c-0c83523a93bd] is required but does not seem to be installed:\n - Run `Pkg.instantiate()` to install all recorded dependencies.\n",
     "output_type": "error",
     "traceback": [
      "ArgumentError: Package Tidier [f0413319-3358-4bb0-8e7c-0c83523a93bd] is required but does not seem to be installed:\n",
      " - Run `Pkg.instantiate()` to install all recorded dependencies.\n",
      "\n",
      "\n",
      "Stacktrace:\n",
      "  [1] _require(pkg::Base.PkgId, env::String)\n",
      "    @ Base ./loading.jl:1774\n",
      "  [2] _require_prelocked(uuidkey::Base.PkgId, env::String)\n",
      "    @ Base ./loading.jl:1660\n",
      "  [3] macro expansion\n",
      "    @ ./loading.jl:1648 [inlined]\n",
      "  [4] macro expansion\n",
      "    @ ./lock.jl:267 [inlined]\n",
      "  [5] require(into::Module, mod::Symbol)\n",
      "    @ Base ./loading.jl:1611\n",
      "  [6] eval\n",
      "    @ ./boot.jl:370 [inlined]\n",
      "  [7] include_string(mapexpr::typeof(REPL.softscope), mod::Module, code::String, filename::String)\n",
      "    @ Base ./loading.jl:1903\n",
      "  [8] #invokelatest#2\n",
      "    @ ./essentials.jl:816 [inlined]\n",
      "  [9] invokelatest\n",
      "    @ ./essentials.jl:813 [inlined]\n",
      " [10] (::VSCodeServer.var\"#198#199\"{VSCodeServer.NotebookRunCellArguments, String})()\n",
      "    @ VSCodeServer ~/.vscode-remote/extensions/julialang.language-julia-1.47.2/scripts/packages/VSCodeServer/src/serve_notebook.jl:19\n",
      " [11] withpath(f::VSCodeServer.var\"#198#199\"{VSCodeServer.NotebookRunCellArguments, String}, path::String)\n",
      "    @ VSCodeServer ~/.vscode-remote/extensions/julialang.language-julia-1.47.2/scripts/packages/VSCodeServer/src/repl.jl:249\n",
      " [12] notebook_runcell_request(conn::VSCodeServer.JSONRPC.JSONRPCEndpoint{Base.PipeEndpoint, Base.PipeEndpoint}, params::VSCodeServer.NotebookRunCellArguments)\n",
      "    @ VSCodeServer ~/.vscode-remote/extensions/julialang.language-julia-1.47.2/scripts/packages/VSCodeServer/src/serve_notebook.jl:13\n",
      " [13] dispatch_msg(x::VSCodeServer.JSONRPC.JSONRPCEndpoint{Base.PipeEndpoint, Base.PipeEndpoint}, dispatcher::VSCodeServer.JSONRPC.MsgDispatcher, msg::Dict{String, Any})\n",
      "    @ VSCodeServer.JSONRPC ~/.vscode-remote/extensions/julialang.language-julia-1.47.2/scripts/packages/JSONRPC/src/typed.jl:67\n",
      " [14] serve_notebook(pipename::String, outputchannel_logger::Base.CoreLogging.SimpleLogger; crashreporting_pipename::String)\n",
      "    @ VSCodeServer ~/.vscode-remote/extensions/julialang.language-julia-1.47.2/scripts/packages/VSCodeServer/src/serve_notebook.jl:139\n",
      " [15] top-level scope\n",
      "    @ ~/.vscode-remote/extensions/julialang.language-julia-1.47.2/scripts/notebook/notebook.jl:32"
     ]
    }
   ],
   "source": [
    "using Tidier"
   ]
  },
  {
   "cell_type": "code",
   "execution_count": 2,
   "metadata": {},
   "outputs": [],
   "source": [
    "using DataFramesMeta"
   ]
  },
  {
   "cell_type": "code",
   "execution_count": null,
   "metadata": {},
   "outputs": [],
   "source": [
    "using RDatasets"
   ]
  },
  {
   "cell_type": "code",
   "execution_count": null,
   "metadata": {},
   "outputs": [],
   "source": []
  }
 ],
 "metadata": {
  "kernelspec": {
   "display_name": "Julia 1.9.2",
   "language": "julia",
   "name": "julia-1.9"
  },
  "language_info": {
   "file_extension": ".jl",
   "mimetype": "application/julia",
   "name": "julia",
   "version": "1.9.2"
  },
  "orig_nbformat": 4
 },
 "nbformat": 4,
 "nbformat_minor": 2
}

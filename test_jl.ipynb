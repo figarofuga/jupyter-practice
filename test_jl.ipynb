{
 "cells": [
  {
   "cell_type": "code",
   "execution_count": null,
   "metadata": {},
   "outputs": [],
   "source": [
    "using CSV\n",
    "using Tidier\n",
    "using RDatasets"
   ]
  },
  {
   "cell_type": "code",
   "execution_count": 7,
   "metadata": {},
   "outputs": [
    {
     "data": {
      "text/html": [
       "<div><div style = \"float: left;\"><span>53940×10 DataFrame</span></div><div style = \"float: right;\"><span style = \"font-style: italic;\">53915 rows omitted</span></div><div style = \"clear: both;\"></div></div><div class = \"data-frame\" style = \"overflow-x: scroll;\"><table class = \"data-frame\" style = \"margin-bottom: 6px;\"><thead><tr class = \"header\"><th class = \"rowNumber\" style = \"font-weight: bold; text-align: right;\">Row</th><th style = \"text-align: left;\">Carat</th><th style = \"text-align: left;\">Cut</th><th style = \"text-align: left;\">Color</th><th style = \"text-align: left;\">Clarity</th><th style = \"text-align: left;\">Depth</th><th style = \"text-align: left;\">Table</th><th style = \"text-align: left;\">Price</th><th style = \"text-align: left;\">X</th><th style = \"text-align: left;\">Y</th><th style = \"text-align: left;\">Z</th></tr><tr class = \"subheader headerLastRow\"><th class = \"rowNumber\" style = \"font-weight: bold; text-align: right;\"></th><th title = \"Float64\" style = \"text-align: left;\">Float64</th><th title = \"CategoricalArrays.CategoricalValue{String, UInt8}\" style = \"text-align: left;\">Cat…</th><th title = \"CategoricalArrays.CategoricalValue{String, UInt8}\" style = \"text-align: left;\">Cat…</th><th title = \"CategoricalArrays.CategoricalValue{String, UInt8}\" style = \"text-align: left;\">Cat…</th><th title = \"Float64\" style = \"text-align: left;\">Float64</th><th title = \"Float64\" style = \"text-align: left;\">Float64</th><th title = \"Int32\" style = \"text-align: left;\">Int32</th><th title = \"Float64\" style = \"text-align: left;\">Float64</th><th title = \"Float64\" style = \"text-align: left;\">Float64</th><th title = \"Float64\" style = \"text-align: left;\">Float64</th></tr></thead><tbody><tr><td class = \"rowNumber\" style = \"font-weight: bold; text-align: right;\">1</td><td style = \"text-align: right;\">0.23</td><td style = \"text-align: left;\">Ideal</td><td style = \"text-align: left;\">E</td><td style = \"text-align: left;\">SI2</td><td style = \"text-align: right;\">61.5</td><td style = \"text-align: right;\">55.0</td><td style = \"text-align: right;\">326</td><td style = \"text-align: right;\">3.95</td><td style = \"text-align: right;\">3.98</td><td style = \"text-align: right;\">2.43</td></tr><tr><td class = \"rowNumber\" style = \"font-weight: bold; text-align: right;\">2</td><td style = \"text-align: right;\">0.21</td><td style = \"text-align: left;\">Premium</td><td style = \"text-align: left;\">E</td><td style = \"text-align: left;\">SI1</td><td style = \"text-align: right;\">59.8</td><td style = \"text-align: right;\">61.0</td><td style = \"text-align: right;\">326</td><td style = \"text-align: right;\">3.89</td><td style = \"text-align: right;\">3.84</td><td style = \"text-align: right;\">2.31</td></tr><tr><td class = \"rowNumber\" style = \"font-weight: bold; text-align: right;\">3</td><td style = \"text-align: right;\">0.23</td><td style = \"text-align: left;\">Good</td><td style = \"text-align: left;\">E</td><td style = \"text-align: left;\">VS1</td><td style = \"text-align: right;\">56.9</td><td style = \"text-align: right;\">65.0</td><td style = \"text-align: right;\">327</td><td style = \"text-align: right;\">4.05</td><td style = \"text-align: right;\">4.07</td><td style = \"text-align: right;\">2.31</td></tr><tr><td class = \"rowNumber\" style = \"font-weight: bold; text-align: right;\">4</td><td style = \"text-align: right;\">0.29</td><td style = \"text-align: left;\">Premium</td><td style = \"text-align: left;\">I</td><td style = \"text-align: left;\">VS2</td><td style = \"text-align: right;\">62.4</td><td style = \"text-align: right;\">58.0</td><td style = \"text-align: right;\">334</td><td style = \"text-align: right;\">4.2</td><td style = \"text-align: right;\">4.23</td><td style = \"text-align: right;\">2.63</td></tr><tr><td class = \"rowNumber\" style = \"font-weight: bold; text-align: right;\">5</td><td style = \"text-align: right;\">0.31</td><td style = \"text-align: left;\">Good</td><td style = \"text-align: left;\">J</td><td style = \"text-align: left;\">SI2</td><td style = \"text-align: right;\">63.3</td><td style = \"text-align: right;\">58.0</td><td style = \"text-align: right;\">335</td><td style = \"text-align: right;\">4.34</td><td style = \"text-align: right;\">4.35</td><td style = \"text-align: right;\">2.75</td></tr><tr><td class = \"rowNumber\" style = \"font-weight: bold; text-align: right;\">6</td><td style = \"text-align: right;\">0.24</td><td style = \"text-align: left;\">Very Good</td><td style = \"text-align: left;\">J</td><td style = \"text-align: left;\">VVS2</td><td style = \"text-align: right;\">62.8</td><td style = \"text-align: right;\">57.0</td><td style = \"text-align: right;\">336</td><td style = \"text-align: right;\">3.94</td><td style = \"text-align: right;\">3.96</td><td style = \"text-align: right;\">2.48</td></tr><tr><td class = \"rowNumber\" style = \"font-weight: bold; text-align: right;\">7</td><td style = \"text-align: right;\">0.24</td><td style = \"text-align: left;\">Very Good</td><td style = \"text-align: left;\">I</td><td style = \"text-align: left;\">VVS1</td><td style = \"text-align: right;\">62.3</td><td style = \"text-align: right;\">57.0</td><td style = \"text-align: right;\">336</td><td style = \"text-align: right;\">3.95</td><td style = \"text-align: right;\">3.98</td><td style = \"text-align: right;\">2.47</td></tr><tr><td class = \"rowNumber\" style = \"font-weight: bold; text-align: right;\">8</td><td style = \"text-align: right;\">0.26</td><td style = \"text-align: left;\">Very Good</td><td style = \"text-align: left;\">H</td><td style = \"text-align: left;\">SI1</td><td style = \"text-align: right;\">61.9</td><td style = \"text-align: right;\">55.0</td><td style = \"text-align: right;\">337</td><td style = \"text-align: right;\">4.07</td><td style = \"text-align: right;\">4.11</td><td style = \"text-align: right;\">2.53</td></tr><tr><td class = \"rowNumber\" style = \"font-weight: bold; text-align: right;\">9</td><td style = \"text-align: right;\">0.22</td><td style = \"text-align: left;\">Fair</td><td style = \"text-align: left;\">E</td><td style = \"text-align: left;\">VS2</td><td style = \"text-align: right;\">65.1</td><td style = \"text-align: right;\">61.0</td><td style = \"text-align: right;\">337</td><td style = \"text-align: right;\">3.87</td><td style = \"text-align: right;\">3.78</td><td style = \"text-align: right;\">2.49</td></tr><tr><td class = \"rowNumber\" style = \"font-weight: bold; text-align: right;\">10</td><td style = \"text-align: right;\">0.23</td><td style = \"text-align: left;\">Very Good</td><td style = \"text-align: left;\">H</td><td style = \"text-align: left;\">VS1</td><td style = \"text-align: right;\">59.4</td><td style = \"text-align: right;\">61.0</td><td style = \"text-align: right;\">338</td><td style = \"text-align: right;\">4.0</td><td style = \"text-align: right;\">4.05</td><td style = \"text-align: right;\">2.39</td></tr><tr><td class = \"rowNumber\" style = \"font-weight: bold; text-align: right;\">11</td><td style = \"text-align: right;\">0.3</td><td style = \"text-align: left;\">Good</td><td style = \"text-align: left;\">J</td><td style = \"text-align: left;\">SI1</td><td style = \"text-align: right;\">64.0</td><td style = \"text-align: right;\">55.0</td><td style = \"text-align: right;\">339</td><td style = \"text-align: right;\">4.25</td><td style = \"text-align: right;\">4.28</td><td style = \"text-align: right;\">2.73</td></tr><tr><td class = \"rowNumber\" style = \"font-weight: bold; text-align: right;\">12</td><td style = \"text-align: right;\">0.23</td><td style = \"text-align: left;\">Ideal</td><td style = \"text-align: left;\">J</td><td style = \"text-align: left;\">VS1</td><td style = \"text-align: right;\">62.8</td><td style = \"text-align: right;\">56.0</td><td style = \"text-align: right;\">340</td><td style = \"text-align: right;\">3.93</td><td style = \"text-align: right;\">3.9</td><td style = \"text-align: right;\">2.46</td></tr><tr><td class = \"rowNumber\" style = \"font-weight: bold; text-align: right;\">13</td><td style = \"text-align: right;\">0.22</td><td style = \"text-align: left;\">Premium</td><td style = \"text-align: left;\">F</td><td style = \"text-align: left;\">SI1</td><td style = \"text-align: right;\">60.4</td><td style = \"text-align: right;\">61.0</td><td style = \"text-align: right;\">342</td><td style = \"text-align: right;\">3.88</td><td style = \"text-align: right;\">3.84</td><td style = \"text-align: right;\">2.33</td></tr><tr><td style = \"text-align: right;\">&vellip;</td><td style = \"text-align: right;\">&vellip;</td><td style = \"text-align: right;\">&vellip;</td><td style = \"text-align: right;\">&vellip;</td><td style = \"text-align: right;\">&vellip;</td><td style = \"text-align: right;\">&vellip;</td><td style = \"text-align: right;\">&vellip;</td><td style = \"text-align: right;\">&vellip;</td><td style = \"text-align: right;\">&vellip;</td><td style = \"text-align: right;\">&vellip;</td><td style = \"text-align: right;\">&vellip;</td></tr><tr><td class = \"rowNumber\" style = \"font-weight: bold; text-align: right;\">53929</td><td style = \"text-align: right;\">0.79</td><td style = \"text-align: left;\">Premium</td><td style = \"text-align: left;\">E</td><td style = \"text-align: left;\">SI2</td><td style = \"text-align: right;\">61.4</td><td style = \"text-align: right;\">58.0</td><td style = \"text-align: right;\">2756</td><td style = \"text-align: right;\">6.03</td><td style = \"text-align: right;\">5.96</td><td style = \"text-align: right;\">3.68</td></tr><tr><td class = \"rowNumber\" style = \"font-weight: bold; text-align: right;\">53930</td><td style = \"text-align: right;\">0.71</td><td style = \"text-align: left;\">Ideal</td><td style = \"text-align: left;\">G</td><td style = \"text-align: left;\">VS1</td><td style = \"text-align: right;\">61.4</td><td style = \"text-align: right;\">56.0</td><td style = \"text-align: right;\">2756</td><td style = \"text-align: right;\">5.76</td><td style = \"text-align: right;\">5.73</td><td style = \"text-align: right;\">3.53</td></tr><tr><td class = \"rowNumber\" style = \"font-weight: bold; text-align: right;\">53931</td><td style = \"text-align: right;\">0.71</td><td style = \"text-align: left;\">Premium</td><td style = \"text-align: left;\">E</td><td style = \"text-align: left;\">SI1</td><td style = \"text-align: right;\">60.5</td><td style = \"text-align: right;\">55.0</td><td style = \"text-align: right;\">2756</td><td style = \"text-align: right;\">5.79</td><td style = \"text-align: right;\">5.74</td><td style = \"text-align: right;\">3.49</td></tr><tr><td class = \"rowNumber\" style = \"font-weight: bold; text-align: right;\">53932</td><td style = \"text-align: right;\">0.71</td><td style = \"text-align: left;\">Premium</td><td style = \"text-align: left;\">F</td><td style = \"text-align: left;\">SI1</td><td style = \"text-align: right;\">59.8</td><td style = \"text-align: right;\">62.0</td><td style = \"text-align: right;\">2756</td><td style = \"text-align: right;\">5.74</td><td style = \"text-align: right;\">5.73</td><td style = \"text-align: right;\">3.43</td></tr><tr><td class = \"rowNumber\" style = \"font-weight: bold; text-align: right;\">53933</td><td style = \"text-align: right;\">0.7</td><td style = \"text-align: left;\">Very Good</td><td style = \"text-align: left;\">E</td><td style = \"text-align: left;\">VS2</td><td style = \"text-align: right;\">60.5</td><td style = \"text-align: right;\">59.0</td><td style = \"text-align: right;\">2757</td><td style = \"text-align: right;\">5.71</td><td style = \"text-align: right;\">5.76</td><td style = \"text-align: right;\">3.47</td></tr><tr><td class = \"rowNumber\" style = \"font-weight: bold; text-align: right;\">53934</td><td style = \"text-align: right;\">0.7</td><td style = \"text-align: left;\">Very Good</td><td style = \"text-align: left;\">E</td><td style = \"text-align: left;\">VS2</td><td style = \"text-align: right;\">61.2</td><td style = \"text-align: right;\">59.0</td><td style = \"text-align: right;\">2757</td><td style = \"text-align: right;\">5.69</td><td style = \"text-align: right;\">5.72</td><td style = \"text-align: right;\">3.49</td></tr><tr><td class = \"rowNumber\" style = \"font-weight: bold; text-align: right;\">53935</td><td style = \"text-align: right;\">0.72</td><td style = \"text-align: left;\">Premium</td><td style = \"text-align: left;\">D</td><td style = \"text-align: left;\">SI1</td><td style = \"text-align: right;\">62.7</td><td style = \"text-align: right;\">59.0</td><td style = \"text-align: right;\">2757</td><td style = \"text-align: right;\">5.69</td><td style = \"text-align: right;\">5.73</td><td style = \"text-align: right;\">3.58</td></tr><tr><td class = \"rowNumber\" style = \"font-weight: bold; text-align: right;\">53936</td><td style = \"text-align: right;\">0.72</td><td style = \"text-align: left;\">Ideal</td><td style = \"text-align: left;\">D</td><td style = \"text-align: left;\">SI1</td><td style = \"text-align: right;\">60.8</td><td style = \"text-align: right;\">57.0</td><td style = \"text-align: right;\">2757</td><td style = \"text-align: right;\">5.75</td><td style = \"text-align: right;\">5.76</td><td style = \"text-align: right;\">3.5</td></tr><tr><td class = \"rowNumber\" style = \"font-weight: bold; text-align: right;\">53937</td><td style = \"text-align: right;\">0.72</td><td style = \"text-align: left;\">Good</td><td style = \"text-align: left;\">D</td><td style = \"text-align: left;\">SI1</td><td style = \"text-align: right;\">63.1</td><td style = \"text-align: right;\">55.0</td><td style = \"text-align: right;\">2757</td><td style = \"text-align: right;\">5.69</td><td style = \"text-align: right;\">5.75</td><td style = \"text-align: right;\">3.61</td></tr><tr><td class = \"rowNumber\" style = \"font-weight: bold; text-align: right;\">53938</td><td style = \"text-align: right;\">0.7</td><td style = \"text-align: left;\">Very Good</td><td style = \"text-align: left;\">D</td><td style = \"text-align: left;\">SI1</td><td style = \"text-align: right;\">62.8</td><td style = \"text-align: right;\">60.0</td><td style = \"text-align: right;\">2757</td><td style = \"text-align: right;\">5.66</td><td style = \"text-align: right;\">5.68</td><td style = \"text-align: right;\">3.56</td></tr><tr><td class = \"rowNumber\" style = \"font-weight: bold; text-align: right;\">53939</td><td style = \"text-align: right;\">0.86</td><td style = \"text-align: left;\">Premium</td><td style = \"text-align: left;\">H</td><td style = \"text-align: left;\">SI2</td><td style = \"text-align: right;\">61.0</td><td style = \"text-align: right;\">58.0</td><td style = \"text-align: right;\">2757</td><td style = \"text-align: right;\">6.15</td><td style = \"text-align: right;\">6.12</td><td style = \"text-align: right;\">3.74</td></tr><tr><td class = \"rowNumber\" style = \"font-weight: bold; text-align: right;\">53940</td><td style = \"text-align: right;\">0.75</td><td style = \"text-align: left;\">Ideal</td><td style = \"text-align: left;\">D</td><td style = \"text-align: left;\">SI2</td><td style = \"text-align: right;\">62.2</td><td style = \"text-align: right;\">55.0</td><td style = \"text-align: right;\">2757</td><td style = \"text-align: right;\">5.83</td><td style = \"text-align: right;\">5.87</td><td style = \"text-align: right;\">3.64</td></tr></tbody></table></div>"
      ],
      "text/latex": [
       "\\begin{tabular}{r|cccccccccc}\n",
       "\t& Carat & Cut & Color & Clarity & Depth & Table & Price & X & Y & Z\\\\\n",
       "\t\\hline\n",
       "\t& Float64 & Cat… & Cat… & Cat… & Float64 & Float64 & Int32 & Float64 & Float64 & Float64\\\\\n",
       "\t\\hline\n",
       "\t1 & 0.23 & Ideal & E & SI2 & 61.5 & 55.0 & 326 & 3.95 & 3.98 & 2.43 \\\\\n",
       "\t2 & 0.21 & Premium & E & SI1 & 59.8 & 61.0 & 326 & 3.89 & 3.84 & 2.31 \\\\\n",
       "\t3 & 0.23 & Good & E & VS1 & 56.9 & 65.0 & 327 & 4.05 & 4.07 & 2.31 \\\\\n",
       "\t4 & 0.29 & Premium & I & VS2 & 62.4 & 58.0 & 334 & 4.2 & 4.23 & 2.63 \\\\\n",
       "\t5 & 0.31 & Good & J & SI2 & 63.3 & 58.0 & 335 & 4.34 & 4.35 & 2.75 \\\\\n",
       "\t6 & 0.24 & Very Good & J & VVS2 & 62.8 & 57.0 & 336 & 3.94 & 3.96 & 2.48 \\\\\n",
       "\t7 & 0.24 & Very Good & I & VVS1 & 62.3 & 57.0 & 336 & 3.95 & 3.98 & 2.47 \\\\\n",
       "\t8 & 0.26 & Very Good & H & SI1 & 61.9 & 55.0 & 337 & 4.07 & 4.11 & 2.53 \\\\\n",
       "\t9 & 0.22 & Fair & E & VS2 & 65.1 & 61.0 & 337 & 3.87 & 3.78 & 2.49 \\\\\n",
       "\t10 & 0.23 & Very Good & H & VS1 & 59.4 & 61.0 & 338 & 4.0 & 4.05 & 2.39 \\\\\n",
       "\t11 & 0.3 & Good & J & SI1 & 64.0 & 55.0 & 339 & 4.25 & 4.28 & 2.73 \\\\\n",
       "\t12 & 0.23 & Ideal & J & VS1 & 62.8 & 56.0 & 340 & 3.93 & 3.9 & 2.46 \\\\\n",
       "\t13 & 0.22 & Premium & F & SI1 & 60.4 & 61.0 & 342 & 3.88 & 3.84 & 2.33 \\\\\n",
       "\t14 & 0.31 & Ideal & J & SI2 & 62.2 & 54.0 & 344 & 4.35 & 4.37 & 2.71 \\\\\n",
       "\t15 & 0.2 & Premium & E & SI2 & 60.2 & 62.0 & 345 & 3.79 & 3.75 & 2.27 \\\\\n",
       "\t16 & 0.32 & Premium & E & I1 & 60.9 & 58.0 & 345 & 4.38 & 4.42 & 2.68 \\\\\n",
       "\t17 & 0.3 & Ideal & I & SI2 & 62.0 & 54.0 & 348 & 4.31 & 4.34 & 2.68 \\\\\n",
       "\t18 & 0.3 & Good & J & SI1 & 63.4 & 54.0 & 351 & 4.23 & 4.29 & 2.7 \\\\\n",
       "\t19 & 0.3 & Good & J & SI1 & 63.8 & 56.0 & 351 & 4.23 & 4.26 & 2.71 \\\\\n",
       "\t20 & 0.3 & Very Good & J & SI1 & 62.7 & 59.0 & 351 & 4.21 & 4.27 & 2.66 \\\\\n",
       "\t21 & 0.3 & Good & I & SI2 & 63.3 & 56.0 & 351 & 4.26 & 4.3 & 2.71 \\\\\n",
       "\t22 & 0.23 & Very Good & E & VS2 & 63.8 & 55.0 & 352 & 3.85 & 3.92 & 2.48 \\\\\n",
       "\t23 & 0.23 & Very Good & H & VS1 & 61.0 & 57.0 & 353 & 3.94 & 3.96 & 2.41 \\\\\n",
       "\t24 & 0.31 & Very Good & J & SI1 & 59.4 & 62.0 & 353 & 4.39 & 4.43 & 2.62 \\\\\n",
       "\t25 & 0.31 & Very Good & J & SI1 & 58.1 & 62.0 & 353 & 4.44 & 4.47 & 2.59 \\\\\n",
       "\t26 & 0.23 & Very Good & G & VVS2 & 60.4 & 58.0 & 354 & 3.97 & 4.01 & 2.41 \\\\\n",
       "\t27 & 0.24 & Premium & I & VS1 & 62.5 & 57.0 & 355 & 3.97 & 3.94 & 2.47 \\\\\n",
       "\t28 & 0.3 & Very Good & J & VS2 & 62.2 & 57.0 & 357 & 4.28 & 4.3 & 2.67 \\\\\n",
       "\t29 & 0.23 & Very Good & D & VS2 & 60.5 & 61.0 & 357 & 3.96 & 3.97 & 2.4 \\\\\n",
       "\t30 & 0.23 & Very Good & F & VS1 & 60.9 & 57.0 & 357 & 3.96 & 3.99 & 2.42 \\\\\n",
       "\t$\\dots$ & $\\dots$ & $\\dots$ & $\\dots$ & $\\dots$ & $\\dots$ & $\\dots$ & $\\dots$ & $\\dots$ & $\\dots$ & $\\dots$ \\\\\n",
       "\\end{tabular}\n"
      ],
      "text/plain": [
       "\u001b[1m53940×10 DataFrame\n",
       "\u001b[1m   Row │\u001b[1m Carat   \u001b[1m Cut       \u001b[1m Color \u001b[1m Clarity \u001b[1m Depth   \u001b[1m Table   \u001b[1m Price \u001b[1m X       \u001b[1m ⋯\n",
       "       │\u001b[90m Float64 \u001b[90m Cat…      \u001b[90m Cat…  \u001b[90m Cat…    \u001b[90m Float64 \u001b[90m Float64 \u001b[90m Int32 \u001b[90m Float64 \u001b[90m ⋯\n",
       "───────┼────────────────────────────────────────────────────────────────────────\n",
       "     1 │    0.23  Ideal      E      SI2         61.5     55.0    326     3.95  ⋯\n",
       "     2 │    0.21  Premium    E      SI1         59.8     61.0    326     3.89\n",
       "     3 │    0.23  Good       E      VS1         56.9     65.0    327     4.05\n",
       "     4 │    0.29  Premium    I      VS2         62.4     58.0    334     4.2\n",
       "     5 │    0.31  Good       J      SI2         63.3     58.0    335     4.34  ⋯\n",
       "     6 │    0.24  Very Good  J      VVS2        62.8     57.0    336     3.94\n",
       "     7 │    0.24  Very Good  I      VVS1        62.3     57.0    336     3.95\n",
       "     8 │    0.26  Very Good  H      SI1         61.9     55.0    337     4.07\n",
       "     9 │    0.22  Fair       E      VS2         65.1     61.0    337     3.87  ⋯\n",
       "    10 │    0.23  Very Good  H      VS1         59.4     61.0    338     4.0\n",
       "    11 │    0.3   Good       J      SI1         64.0     55.0    339     4.25\n",
       "   ⋮   │    ⋮         ⋮        ⋮       ⋮        ⋮        ⋮       ⋮       ⋮     ⋱\n",
       " 53931 │    0.71  Premium    E      SI1         60.5     55.0   2756     5.79\n",
       " 53932 │    0.71  Premium    F      SI1         59.8     62.0   2756     5.74  ⋯\n",
       " 53933 │    0.7   Very Good  E      VS2         60.5     59.0   2757     5.71\n",
       " 53934 │    0.7   Very Good  E      VS2         61.2     59.0   2757     5.69\n",
       " 53935 │    0.72  Premium    D      SI1         62.7     59.0   2757     5.69\n",
       " 53936 │    0.72  Ideal      D      SI1         60.8     57.0   2757     5.75  ⋯\n",
       " 53937 │    0.72  Good       D      SI1         63.1     55.0   2757     5.69\n",
       " 53938 │    0.7   Very Good  D      SI1         62.8     60.0   2757     5.66\n",
       " 53939 │    0.86  Premium    H      SI2         61.0     58.0   2757     6.15\n",
       " 53940 │    0.75  Ideal      D      SI2         62.2     55.0   2757     5.83  ⋯\n",
       "\u001b[36m                                                2 columns and 53919 rows omitted"
      ]
     },
     "execution_count": 7,
     "metadata": {},
     "output_type": "execute_result"
    }
   ],
   "source": [
    "diamonds = RDatasets.dataset(\"ggplot2\", \"diamonds\")"
   ]
  },
  {
   "cell_type": "code",
   "execution_count": 8,
   "metadata": {},
   "outputs": [
    {
     "data": {
      "text/html": [
       "<div><div style = \"float: left;\"><span>DataFrameRow (10 columns)</span></div><div style = \"clear: both;\"></div></div><div class = \"data-frame\" style = \"overflow-x: scroll;\"><table class = \"data-frame\" style = \"margin-bottom: 6px;\"><thead><tr class = \"header\"><th class = \"rowLabel\" style = \"font-weight: bold; text-align: right;\">Row</th><th style = \"text-align: left;\">Carat</th><th style = \"text-align: left;\">Cut</th><th style = \"text-align: left;\">Color</th><th style = \"text-align: left;\">Clarity</th><th style = \"text-align: left;\">Depth</th><th style = \"text-align: left;\">Table</th><th style = \"text-align: left;\">Price</th><th style = \"text-align: left;\">X</th><th style = \"text-align: left;\">Y</th><th style = \"text-align: left;\">Z</th></tr><tr class = \"subheader headerLastRow\"><th class = \"rowLabel\" style = \"font-weight: bold; text-align: right;\"></th><th title = \"Float64\" style = \"text-align: left;\">Float64</th><th title = \"CategoricalArrays.CategoricalValue{String, UInt8}\" style = \"text-align: left;\">Cat…</th><th title = \"CategoricalArrays.CategoricalValue{String, UInt8}\" style = \"text-align: left;\">Cat…</th><th title = \"CategoricalArrays.CategoricalValue{String, UInt8}\" style = \"text-align: left;\">Cat…</th><th title = \"Float64\" style = \"text-align: left;\">Float64</th><th title = \"Float64\" style = \"text-align: left;\">Float64</th><th title = \"Int32\" style = \"text-align: left;\">Int32</th><th title = \"Float64\" style = \"text-align: left;\">Float64</th><th title = \"Float64\" style = \"text-align: left;\">Float64</th><th title = \"Float64\" style = \"text-align: left;\">Float64</th></tr></thead><tbody><tr><td class = \"rowLabel\" style = \"font-weight: bold; text-align: right;\">1</td><td style = \"text-align: right;\">0.23</td><td style = \"text-align: left;\">Ideal</td><td style = \"text-align: left;\">E</td><td style = \"text-align: left;\">SI2</td><td style = \"text-align: right;\">61.5</td><td style = \"text-align: right;\">55.0</td><td style = \"text-align: right;\">326</td><td style = \"text-align: right;\">3.95</td><td style = \"text-align: right;\">3.98</td><td style = \"text-align: right;\">2.43</td></tr></tbody></table></div>"
      ],
      "text/latex": [
       "\\begin{tabular}{r|cccccccccc}\n",
       "\t& Carat & Cut & Color & Clarity & Depth & Table & Price & X & Y & Z\\\\\n",
       "\t\\hline\n",
       "\t& Float64 & Cat… & Cat… & Cat… & Float64 & Float64 & Int32 & Float64 & Float64 & Float64\\\\\n",
       "\t\\hline\n",
       "\t1 & 0.23 & Ideal & E & SI2 & 61.5 & 55.0 & 326 & 3.95 & 3.98 & 2.43 \\\\\n",
       "\\end{tabular}\n"
      ],
      "text/plain": [
       "\u001b[1mDataFrameRow\n",
       "\u001b[1m Row │\u001b[1m Carat   \u001b[1m Cut   \u001b[1m Color \u001b[1m Clarity \u001b[1m Depth   \u001b[1m Table   \u001b[1m Price \u001b[1m X       \u001b[1m Y     ⋯\n",
       "     │\u001b[90m Float64 \u001b[90m Cat…  \u001b[90m Cat…  \u001b[90m Cat…    \u001b[90m Float64 \u001b[90m Float64 \u001b[90m Int32 \u001b[90m Float64 \u001b[90m Float ⋯\n",
       "─────┼──────────────────────────────────────────────────────────────────────────\n",
       "   1 │    0.23  Ideal  E      SI2         61.5     55.0    326     3.95     3. ⋯\n",
       "\u001b[36m                                                               2 columns omitted"
      ]
     },
     "execution_count": 8,
     "metadata": {},
     "output_type": "execute_result"
    }
   ],
   "source": [
    "first(diamonds)"
   ]
  },
  {
   "cell_type": "code",
   "execution_count": null,
   "metadata": {},
   "outputs": [],
   "source": []
  },
  {
   "cell_type": "code",
   "execution_count": null,
   "metadata": {},
   "outputs": [],
   "source": []
  }
 ],
 "metadata": {
  "kernelspec": {
   "display_name": "Julia 1.9.2",
   "language": "julia",
   "name": "julia-1.9"
  },
  "language_info": {
   "file_extension": ".jl",
   "mimetype": "application/julia",
   "name": "julia",
   "version": "1.9.2"
  },
  "orig_nbformat": 4
 },
 "nbformat": 4,
 "nbformat_minor": 2
}
